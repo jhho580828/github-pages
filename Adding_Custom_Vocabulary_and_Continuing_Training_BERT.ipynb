{
  "nbformat": 4,
  "nbformat_minor": 0,
  "metadata": {
    "colab": {
      "provenance": [],
      "include_colab_link": true
    },
    "kernelspec": {
      "name": "python3",
      "display_name": "Python 3"
    },
    "widgets": {
      "application/vnd.jupyter.widget-state+json": {
        "b598157a04a74bcda1e52a240d06399c": {
          "model_module": "@jupyter-widgets/controls",
          "model_name": "HBoxModel",
          "model_module_version": "1.5.0",
          "state": {
            "_view_name": "HBoxView",
            "_dom_classes": [],
            "_model_name": "HBoxModel",
            "_view_module": "@jupyter-widgets/controls",
            "_model_module_version": "1.5.0",
            "_view_count": null,
            "_view_module_version": "1.5.0",
            "box_style": "",
            "layout": "IPY_MODEL_07eced1a774b438da179bed801638e48",
            "_model_module": "@jupyter-widgets/controls",
            "children": [
              "IPY_MODEL_3b792004ab754fa5a02fa96f2fa16162",
              "IPY_MODEL_0dec6cd1697a4f9ba4aba0ff3fd11093"
            ]
          }
        },
        "07eced1a774b438da179bed801638e48": {
          "model_module": "@jupyter-widgets/base",
          "model_name": "LayoutModel",
          "model_module_version": "1.2.0",
          "state": {
            "_view_name": "LayoutView",
            "grid_template_rows": null,
            "right": null,
            "justify_content": null,
            "_view_module": "@jupyter-widgets/base",
            "overflow": null,
            "_model_module_version": "1.2.0",
            "_view_count": null,
            "flex_flow": null,
            "width": null,
            "min_width": null,
            "border": null,
            "align_items": null,
            "bottom": null,
            "_model_module": "@jupyter-widgets/base",
            "top": null,
            "grid_column": null,
            "overflow_y": null,
            "overflow_x": null,
            "grid_auto_flow": null,
            "grid_area": null,
            "grid_template_columns": null,
            "flex": null,
            "_model_name": "LayoutModel",
            "justify_items": null,
            "grid_row": null,
            "max_height": null,
            "align_content": null,
            "visibility": null,
            "align_self": null,
            "height": null,
            "min_height": null,
            "padding": null,
            "grid_auto_rows": null,
            "grid_gap": null,
            "max_width": null,
            "order": null,
            "_view_module_version": "1.2.0",
            "grid_template_areas": null,
            "object_position": null,
            "object_fit": null,
            "grid_auto_columns": null,
            "margin": null,
            "display": null,
            "left": null
          }
        },
        "3b792004ab754fa5a02fa96f2fa16162": {
          "model_module": "@jupyter-widgets/controls",
          "model_name": "FloatProgressModel",
          "model_module_version": "1.5.0",
          "state": {
            "_view_name": "ProgressView",
            "style": "IPY_MODEL_da7a1d7cce804e29906d3d4757b0b9f3",
            "_dom_classes": [],
            "description": "Epoch: 100%",
            "_model_name": "FloatProgressModel",
            "bar_style": "success",
            "max": 1,
            "_view_module": "@jupyter-widgets/controls",
            "_model_module_version": "1.5.0",
            "value": 1,
            "_view_count": null,
            "_view_module_version": "1.5.0",
            "orientation": "horizontal",
            "min": 0,
            "description_tooltip": null,
            "_model_module": "@jupyter-widgets/controls",
            "layout": "IPY_MODEL_a61bab9d35e247d6be4c77ae6adca33c"
          }
        },
        "0dec6cd1697a4f9ba4aba0ff3fd11093": {
          "model_module": "@jupyter-widgets/controls",
          "model_name": "HTMLModel",
          "model_module_version": "1.5.0",
          "state": {
            "_view_name": "HTMLView",
            "style": "IPY_MODEL_80d1ded3744b42b2894ce1962b2c93a7",
            "_dom_classes": [],
            "description": "",
            "_model_name": "HTMLModel",
            "placeholder": "​",
            "_view_module": "@jupyter-widgets/controls",
            "_model_module_version": "1.5.0",
            "value": " 1/1 [05:06&lt;00:00, 306.21s/it]",
            "_view_count": null,
            "_view_module_version": "1.5.0",
            "description_tooltip": null,
            "_model_module": "@jupyter-widgets/controls",
            "layout": "IPY_MODEL_8070eb7ac493436d9719a544b9ce41a2"
          }
        },
        "da7a1d7cce804e29906d3d4757b0b9f3": {
          "model_module": "@jupyter-widgets/controls",
          "model_name": "ProgressStyleModel",
          "model_module_version": "1.5.0",
          "state": {
            "_view_name": "StyleView",
            "_model_name": "ProgressStyleModel",
            "description_width": "initial",
            "_view_module": "@jupyter-widgets/base",
            "_model_module_version": "1.5.0",
            "_view_count": null,
            "_view_module_version": "1.2.0",
            "bar_color": null,
            "_model_module": "@jupyter-widgets/controls"
          }
        },
        "a61bab9d35e247d6be4c77ae6adca33c": {
          "model_module": "@jupyter-widgets/base",
          "model_name": "LayoutModel",
          "model_module_version": "1.2.0",
          "state": {
            "_view_name": "LayoutView",
            "grid_template_rows": null,
            "right": null,
            "justify_content": null,
            "_view_module": "@jupyter-widgets/base",
            "overflow": null,
            "_model_module_version": "1.2.0",
            "_view_count": null,
            "flex_flow": null,
            "width": null,
            "min_width": null,
            "border": null,
            "align_items": null,
            "bottom": null,
            "_model_module": "@jupyter-widgets/base",
            "top": null,
            "grid_column": null,
            "overflow_y": null,
            "overflow_x": null,
            "grid_auto_flow": null,
            "grid_area": null,
            "grid_template_columns": null,
            "flex": null,
            "_model_name": "LayoutModel",
            "justify_items": null,
            "grid_row": null,
            "max_height": null,
            "align_content": null,
            "visibility": null,
            "align_self": null,
            "height": null,
            "min_height": null,
            "padding": null,
            "grid_auto_rows": null,
            "grid_gap": null,
            "max_width": null,
            "order": null,
            "_view_module_version": "1.2.0",
            "grid_template_areas": null,
            "object_position": null,
            "object_fit": null,
            "grid_auto_columns": null,
            "margin": null,
            "display": null,
            "left": null
          }
        },
        "80d1ded3744b42b2894ce1962b2c93a7": {
          "model_module": "@jupyter-widgets/controls",
          "model_name": "DescriptionStyleModel",
          "model_module_version": "1.5.0",
          "state": {
            "_view_name": "StyleView",
            "_model_name": "DescriptionStyleModel",
            "description_width": "",
            "_view_module": "@jupyter-widgets/base",
            "_model_module_version": "1.5.0",
            "_view_count": null,
            "_view_module_version": "1.2.0",
            "_model_module": "@jupyter-widgets/controls"
          }
        },
        "8070eb7ac493436d9719a544b9ce41a2": {
          "model_module": "@jupyter-widgets/base",
          "model_name": "LayoutModel",
          "model_module_version": "1.2.0",
          "state": {
            "_view_name": "LayoutView",
            "grid_template_rows": null,
            "right": null,
            "justify_content": null,
            "_view_module": "@jupyter-widgets/base",
            "overflow": null,
            "_model_module_version": "1.2.0",
            "_view_count": null,
            "flex_flow": null,
            "width": null,
            "min_width": null,
            "border": null,
            "align_items": null,
            "bottom": null,
            "_model_module": "@jupyter-widgets/base",
            "top": null,
            "grid_column": null,
            "overflow_y": null,
            "overflow_x": null,
            "grid_auto_flow": null,
            "grid_area": null,
            "grid_template_columns": null,
            "flex": null,
            "_model_name": "LayoutModel",
            "justify_items": null,
            "grid_row": null,
            "max_height": null,
            "align_content": null,
            "visibility": null,
            "align_self": null,
            "height": null,
            "min_height": null,
            "padding": null,
            "grid_auto_rows": null,
            "grid_gap": null,
            "max_width": null,
            "order": null,
            "_view_module_version": "1.2.0",
            "grid_template_areas": null,
            "object_position": null,
            "object_fit": null,
            "grid_auto_columns": null,
            "margin": null,
            "display": null,
            "left": null
          }
        },
        "b6a41ae6af234de4b96bad725e0f6db5": {
          "model_module": "@jupyter-widgets/controls",
          "model_name": "HBoxModel",
          "model_module_version": "1.5.0",
          "state": {
            "_view_name": "HBoxView",
            "_dom_classes": [],
            "_model_name": "HBoxModel",
            "_view_module": "@jupyter-widgets/controls",
            "_model_module_version": "1.5.0",
            "_view_count": null,
            "_view_module_version": "1.5.0",
            "box_style": "",
            "layout": "IPY_MODEL_59655e281b8c4f3181c8e6c26015e202",
            "_model_module": "@jupyter-widgets/controls",
            "children": [
              "IPY_MODEL_a607a55e6f7140ffa00053ee5b33bd91",
              "IPY_MODEL_a1299c48e2df4a68b0d9470f2d7595a6"
            ]
          }
        },
        "59655e281b8c4f3181c8e6c26015e202": {
          "model_module": "@jupyter-widgets/base",
          "model_name": "LayoutModel",
          "model_module_version": "1.2.0",
          "state": {
            "_view_name": "LayoutView",
            "grid_template_rows": null,
            "right": null,
            "justify_content": null,
            "_view_module": "@jupyter-widgets/base",
            "overflow": null,
            "_model_module_version": "1.2.0",
            "_view_count": null,
            "flex_flow": null,
            "width": null,
            "min_width": null,
            "border": null,
            "align_items": null,
            "bottom": null,
            "_model_module": "@jupyter-widgets/base",
            "top": null,
            "grid_column": null,
            "overflow_y": null,
            "overflow_x": null,
            "grid_auto_flow": null,
            "grid_area": null,
            "grid_template_columns": null,
            "flex": null,
            "_model_name": "LayoutModel",
            "justify_items": null,
            "grid_row": null,
            "max_height": null,
            "align_content": null,
            "visibility": null,
            "align_self": null,
            "height": null,
            "min_height": null,
            "padding": null,
            "grid_auto_rows": null,
            "grid_gap": null,
            "max_width": null,
            "order": null,
            "_view_module_version": "1.2.0",
            "grid_template_areas": null,
            "object_position": null,
            "object_fit": null,
            "grid_auto_columns": null,
            "margin": null,
            "display": null,
            "left": null
          }
        },
        "a607a55e6f7140ffa00053ee5b33bd91": {
          "model_module": "@jupyter-widgets/controls",
          "model_name": "FloatProgressModel",
          "model_module_version": "1.5.0",
          "state": {
            "_view_name": "ProgressView",
            "style": "IPY_MODEL_dc36c38d37fe4bc2acf626e5284fc4d5",
            "_dom_classes": [],
            "description": "Iteration: 100%",
            "_model_name": "FloatProgressModel",
            "bar_style": "success",
            "max": 190,
            "_view_module": "@jupyter-widgets/controls",
            "_model_module_version": "1.5.0",
            "value": 190,
            "_view_count": null,
            "_view_module_version": "1.5.0",
            "orientation": "horizontal",
            "min": 0,
            "description_tooltip": null,
            "_model_module": "@jupyter-widgets/controls",
            "layout": "IPY_MODEL_25b6f0f2f3ad4adfbc76c0c97bd21b75"
          }
        },
        "a1299c48e2df4a68b0d9470f2d7595a6": {
          "model_module": "@jupyter-widgets/controls",
          "model_name": "HTMLModel",
          "model_module_version": "1.5.0",
          "state": {
            "_view_name": "HTMLView",
            "style": "IPY_MODEL_96be4784928242cea94fbef3f43c605c",
            "_dom_classes": [],
            "description": "",
            "_model_name": "HTMLModel",
            "placeholder": "​",
            "_view_module": "@jupyter-widgets/controls",
            "_model_module_version": "1.5.0",
            "value": " 190/190 [05:06&lt;00:00,  1.61s/it]",
            "_view_count": null,
            "_view_module_version": "1.5.0",
            "description_tooltip": null,
            "_model_module": "@jupyter-widgets/controls",
            "layout": "IPY_MODEL_0d3e656adef04df682a36d4afb9e3ee4"
          }
        },
        "dc36c38d37fe4bc2acf626e5284fc4d5": {
          "model_module": "@jupyter-widgets/controls",
          "model_name": "ProgressStyleModel",
          "model_module_version": "1.5.0",
          "state": {
            "_view_name": "StyleView",
            "_model_name": "ProgressStyleModel",
            "description_width": "initial",
            "_view_module": "@jupyter-widgets/base",
            "_model_module_version": "1.5.0",
            "_view_count": null,
            "_view_module_version": "1.2.0",
            "bar_color": null,
            "_model_module": "@jupyter-widgets/controls"
          }
        },
        "25b6f0f2f3ad4adfbc76c0c97bd21b75": {
          "model_module": "@jupyter-widgets/base",
          "model_name": "LayoutModel",
          "model_module_version": "1.2.0",
          "state": {
            "_view_name": "LayoutView",
            "grid_template_rows": null,
            "right": null,
            "justify_content": null,
            "_view_module": "@jupyter-widgets/base",
            "overflow": null,
            "_model_module_version": "1.2.0",
            "_view_count": null,
            "flex_flow": null,
            "width": null,
            "min_width": null,
            "border": null,
            "align_items": null,
            "bottom": null,
            "_model_module": "@jupyter-widgets/base",
            "top": null,
            "grid_column": null,
            "overflow_y": null,
            "overflow_x": null,
            "grid_auto_flow": null,
            "grid_area": null,
            "grid_template_columns": null,
            "flex": null,
            "_model_name": "LayoutModel",
            "justify_items": null,
            "grid_row": null,
            "max_height": null,
            "align_content": null,
            "visibility": null,
            "align_self": null,
            "height": null,
            "min_height": null,
            "padding": null,
            "grid_auto_rows": null,
            "grid_gap": null,
            "max_width": null,
            "order": null,
            "_view_module_version": "1.2.0",
            "grid_template_areas": null,
            "object_position": null,
            "object_fit": null,
            "grid_auto_columns": null,
            "margin": null,
            "display": null,
            "left": null
          }
        },
        "96be4784928242cea94fbef3f43c605c": {
          "model_module": "@jupyter-widgets/controls",
          "model_name": "DescriptionStyleModel",
          "model_module_version": "1.5.0",
          "state": {
            "_view_name": "StyleView",
            "_model_name": "DescriptionStyleModel",
            "description_width": "",
            "_view_module": "@jupyter-widgets/base",
            "_model_module_version": "1.5.0",
            "_view_count": null,
            "_view_module_version": "1.2.0",
            "_model_module": "@jupyter-widgets/controls"
          }
        },
        "0d3e656adef04df682a36d4afb9e3ee4": {
          "model_module": "@jupyter-widgets/base",
          "model_name": "LayoutModel",
          "model_module_version": "1.2.0",
          "state": {
            "_view_name": "LayoutView",
            "grid_template_rows": null,
            "right": null,
            "justify_content": null,
            "_view_module": "@jupyter-widgets/base",
            "overflow": null,
            "_model_module_version": "1.2.0",
            "_view_count": null,
            "flex_flow": null,
            "width": null,
            "min_width": null,
            "border": null,
            "align_items": null,
            "bottom": null,
            "_model_module": "@jupyter-widgets/base",
            "top": null,
            "grid_column": null,
            "overflow_y": null,
            "overflow_x": null,
            "grid_auto_flow": null,
            "grid_area": null,
            "grid_template_columns": null,
            "flex": null,
            "_model_name": "LayoutModel",
            "justify_items": null,
            "grid_row": null,
            "max_height": null,
            "align_content": null,
            "visibility": null,
            "align_self": null,
            "height": null,
            "min_height": null,
            "padding": null,
            "grid_auto_rows": null,
            "grid_gap": null,
            "max_width": null,
            "order": null,
            "_view_module_version": "1.2.0",
            "grid_template_areas": null,
            "object_position": null,
            "object_fit": null,
            "grid_auto_columns": null,
            "margin": null,
            "display": null,
            "left": null
          }
        }
      }
    },
    "accelerator": "GPU"
  },
  "cells": [
    {
      "cell_type": "markdown",
      "metadata": {
        "id": "view-in-github",
        "colab_type": "text"
      },
      "source": [
        "<a href=\"https://colab.research.google.com/github/jhho580828/github-pages/blob/main/Adding_Custom_Vocabulary_and_Continuing_Training_BERT.ipynb\" target=\"_parent\"><img src=\"https://colab.research.google.com/assets/colab-badge.svg\" alt=\"Open In Colab\"/></a>"
      ]
    },
    {
      "cell_type": "markdown",
      "metadata": {
        "id": "szQR4KwiOEOj"
      },
      "source": [
        "# Adding Custom Vocabulary and Continuing Training\n",
        "\n",
        "*by Nick Ryan*"
      ]
    },
    {
      "cell_type": "markdown",
      "metadata": {
        "id": "uXKyKe3NZONV"
      },
      "source": [
        "# S1. Introduction"
      ]
    },
    {
      "cell_type": "markdown",
      "metadata": {
        "id": "zgITqyZXZRA7"
      },
      "source": [
        "Many NLP applications are about classifying text in very specific and unique domains. Whether you're building a sentiment classifier for an auto parts company or a chatbot for your financial services customers,  sometimes a model like BERT doesn't quite cut it because certain unique and unusual names, phrases, and terms are such a key part of your data. \n",
        "\n",
        "In this tutorial we will discuss how to customize a language model like BERT for your own text domain and show you how to:\n",
        "\n",
        "- Add new words to the model vocabulary\n",
        "- Create custom embeddings for those new words\n",
        "- Continue training the model with your own dataset\n",
        "- Run a quick test to see the progress of your continued training\n"
      ]
    },
    {
      "cell_type": "markdown",
      "metadata": {
        "id": "uVa5S9z0OIjf"
      },
      "source": [
        "## Notebook Access"
      ]
    },
    {
      "cell_type": "markdown",
      "metadata": {
        "id": "SCFXYdbIXguc"
      },
      "source": [
        "\n",
        "-------------------------------------\n",
        "\n",
        "[![Notebook Access](https://drive.google.com/uc?export=view&id=1yPJapK5X9kXLDhtuDJm3Hw4-ZlxMwcsa)](https://www.chrismccormick.ai/membership)\n",
        "\n",
        "<sup>\\*</sup>Notify me [here](team@chrismccormick.ai)\n",
        "\n",
        "<sup>\\*\\*</sup>Join my site [here](https://www.chrismccormick.ai/membership) \n",
        "\n",
        "---------------------------------------\n",
        "\n"
      ]
    },
    {
      "cell_type": "markdown",
      "metadata": {
        "id": "CC3O1ViohOCK"
      },
      "source": [
        "## 1.1 Background and Problem Statement\n",
        "\n",
        "\n",
        "**Why Not Just Fine-Tune?**\n",
        "\n",
        "The most common method for building a text model on top of BERT has been to use the pretrained BERT model as a basis for fine-tuning a classifier on your specific application. However, sometimes your application uses text and terminology from a specific domain that is not reflected in the training corpus used by BERT, SciBERt, BioBERT or other variants, resulting in vocabulary and weights poorly suited to your application. \n",
        "\n",
        "For example, say you work in the automotive industry and want to build an NLP application revolving around automotive brands and the mention of your new company named \"carz4friendz.\" You could fine-tune your model on top of a pretrained BERT model, but because BERT was trained on a limited amount of technical automotive data it will have a poor \"understanding\" of automative brands, parts, technical terminiology, and will not have an understanding or efficient tokenization of your new company name, which is a critical part of the application. \n",
        "\n",
        "**Customizing Vocabulary and \"Intermediate\" Training**\n",
        "\n",
        "In this case there are two things you can do to help give your NLP application a boost:\n",
        "\n",
        "1.  Add new terms to the model vocabulary that are particularly important for your application. In our example, we would add the name of our automative company \"carz4friendz\" to BERT's vocabulary.\n",
        "2.  Continue pretraining the model or fine-tuning the model on an \"intermediate\" task focused on text data that is relevant to your final application. In our example, we would continue pretraining BERT on news articles, industry reports, and text from the automotive industry to help improve the model's performance when it comes to automotive text.\n",
        "\n",
        "![Intermediate Pre-Training](https://drive.google.com/uc?export=view&id=1TLvg8OXUDugyZo2_cVsWElzbuKuUzi9O)\n",
        "\n",
        "**Applying this Approach to COVID-19**\n",
        "\n",
        "In this tutorial, we'll apply these two solutions to an application everyone is familiar with: COVID-19. SciBERT was trained largely on a biomedical corpus so is a good candidate base for coronavirus-related NLP applications if we want to search, index, cluster, etc. coronavirus research publications. However, SciBERT was trained in early 2019, so the model was never trained on coronavirus research, nor does it even have a vocabulary entry for some of the key terms we would need for our application like \"coronavirus,\" \"COVID-19\", \"COVID\", etc.\n",
        "\n",
        "We will first update the SciBERT vocabulary and show you how to add relevant vocabulary to your tokenizer and model. Then we will show you how to continue training your model with a custom dataset. Specifically, we will show you how to continue the masked language modeling task used for pretraining, a task that we have not previously explored in our tutorials and one that is very simple to execute (all you need is unlabeled data!).\n",
        "\n"
      ]
    },
    {
      "cell_type": "markdown",
      "metadata": {
        "id": "clB4Bklb-B13"
      },
      "source": [
        "# S2. Import SciBERT Community Model"
      ]
    },
    {
      "cell_type": "markdown",
      "metadata": {
        "id": "q3dpoWs_Dn-t"
      },
      "source": [
        "\n",
        "First we'll use SciBERT, a popular BERT variant (it has over 28,000 downloads in the past month on huggingface!). This is well suited to our task because our target domain is biomedical text.\n",
        "\n",
        "* SciBERT was trained on scientific literature--1.14M papers.\n",
        "  * Roughly 1/5th of the papers are from \"the computer science domain\", and the remaining 4/5ths from \"the broad biomedical domain\".\n",
        "* SciBERT was created by the Allen Institute of AI (a highly respected group in NLP, if you're unfamiliar).\n",
        "* Their paper was first submitted to arXiv in March, 2019 [here](https://arxiv.org/abs/1903.10676). They uploaded their implementation to GitHub [here](https://github.com/allenai/scibert) around the same time.\n",
        "\n"
      ]
    },
    {
      "cell_type": "markdown",
      "metadata": {
        "id": "aJF_caESC0yS"
      },
      "source": [
        "SciBERT is available from the [huggingface community models](https://huggingface.co/models). If you're interested in a BERT variant from the community models in the transformers library, importing can be incredibly simple. Most community models include instructions on the download page for importing and usage. \n",
        "\n",
        "To import SciBERT all we need to do is provide the appropriate path to the SciBERT model we're interested in. After that, the model and tokenizer interface and methods follow the regular huggingface interface and methods.\n",
        "\n"
      ]
    },
    {
      "cell_type": "code",
      "metadata": {
        "id": "pN2Ms9W3IKrp",
        "colab": {
          "base_uri": "https://localhost:8080/",
          "height": 365
        },
        "outputId": "a4c4d8a6-610e-4510-ab8e-b37a56f44365"
      },
      "source": [
        "!pip install transformers"
      ],
      "execution_count": null,
      "outputs": [
        {
          "output_type": "stream",
          "text": [
            "Requirement already satisfied: transformers in /usr/local/lib/python3.6/dist-packages (2.11.0)\n",
            "Requirement already satisfied: tqdm>=4.27 in /usr/local/lib/python3.6/dist-packages (from transformers) (4.41.1)\n",
            "Requirement already satisfied: numpy in /usr/local/lib/python3.6/dist-packages (from transformers) (1.18.5)\n",
            "Requirement already satisfied: requests in /usr/local/lib/python3.6/dist-packages (from transformers) (2.23.0)\n",
            "Requirement already satisfied: tokenizers==0.7.0 in /usr/local/lib/python3.6/dist-packages (from transformers) (0.7.0)\n",
            "Requirement already satisfied: packaging in /usr/local/lib/python3.6/dist-packages (from transformers) (20.4)\n",
            "Requirement already satisfied: sacremoses in /usr/local/lib/python3.6/dist-packages (from transformers) (0.0.43)\n",
            "Requirement already satisfied: filelock in /usr/local/lib/python3.6/dist-packages (from transformers) (3.0.12)\n",
            "Requirement already satisfied: dataclasses; python_version < \"3.7\" in /usr/local/lib/python3.6/dist-packages (from transformers) (0.7)\n",
            "Requirement already satisfied: sentencepiece in /usr/local/lib/python3.6/dist-packages (from transformers) (0.1.91)\n",
            "Requirement already satisfied: regex!=2019.12.17 in /usr/local/lib/python3.6/dist-packages (from transformers) (2019.12.20)\n",
            "Requirement already satisfied: urllib3!=1.25.0,!=1.25.1,<1.26,>=1.21.1 in /usr/local/lib/python3.6/dist-packages (from requests->transformers) (1.24.3)\n",
            "Requirement already satisfied: chardet<4,>=3.0.2 in /usr/local/lib/python3.6/dist-packages (from requests->transformers) (3.0.4)\n",
            "Requirement already satisfied: certifi>=2017.4.17 in /usr/local/lib/python3.6/dist-packages (from requests->transformers) (2020.4.5.2)\n",
            "Requirement already satisfied: idna<3,>=2.5 in /usr/local/lib/python3.6/dist-packages (from requests->transformers) (2.9)\n",
            "Requirement already satisfied: six in /usr/local/lib/python3.6/dist-packages (from packaging->transformers) (1.12.0)\n",
            "Requirement already satisfied: pyparsing>=2.0.2 in /usr/local/lib/python3.6/dist-packages (from packaging->transformers) (2.4.7)\n",
            "Requirement already satisfied: click in /usr/local/lib/python3.6/dist-packages (from sacremoses->transformers) (7.1.2)\n",
            "Requirement already satisfied: joblib in /usr/local/lib/python3.6/dist-packages (from sacremoses->transformers) (0.15.1)\n"
          ],
          "name": "stdout"
        }
      ]
    },
    {
      "cell_type": "markdown",
      "metadata": {
        "id": "0ZjLyp8Vwm8j"
      },
      "source": [
        "We'll import BertForMaskedLM, the masked language modeling (MLM) variant for BERT. Simply, this is the BERT model with a masked language modeling head on top allowing us to continue the training procedure used to generate BERT and SciBERT. \n",
        "\n",
        "This does not include the next sentence prediction (NSP) task, which can be found under the BertForPreTraining class that includes both a NSP head and a MLM head. You are welcome to use this class or any of the other pretraining tasks used by BERT-like models, but based on the findings of papers like ROBERTA and T5, it doesn't appear that the NSP task in particular contributes much to the final model performance, so we forego it here for simplicity's sake."
      ]
    },
    {
      "cell_type": "code",
      "metadata": {
        "id": "ar2WGznUIKpq"
      },
      "source": [
        "from transformers import BertTokenizer, BertForMaskedLM, BertForPreTraining, BertConfig\n",
        "import torch\n",
        "import matplotlib.pyplot as plt\n",
        "\n",
        "scibert_tokenizer = BertTokenizer.from_pretrained(\"allenai/scibert_scivocab_uncased\", do_lower_case=True)\n",
        "scibert_maskedlm_model = BertForMaskedLM.from_pretrained(\"allenai/scibert_scivocab_uncased\")\n"
      ],
      "execution_count": null,
      "outputs": []
    },
    {
      "cell_type": "markdown",
      "metadata": {
        "id": "SWbwS46uOWf4"
      },
      "source": [
        "# S3. Adding to the Vocabulary"
      ]
    },
    {
      "cell_type": "markdown",
      "metadata": {
        "id": "HSGCLOfJSrYR"
      },
      "source": [
        "## 3.1 Add a Token"
      ]
    },
    {
      "cell_type": "markdown",
      "metadata": {
        "id": "nQs1xM7tSPj5"
      },
      "source": [
        "Let's say that, for BERT or any of its variants, we'd like to add new vocabulary into the model. In this example, we're interested in organizing, searching, or indexing some scientific literature related to COVID-19. We want to continue training SciBERT on new batches of COVID-19 literature so that we can organize new and old research related to COVID-19.\n",
        "\n",
        "Since SciBERT was trained before the outbreak of COVID-19, this word likely isn't in the vocabulary. In fact, we can confirm it is not:"
      ]
    },
    {
      "cell_type": "markdown",
      "source": [
        "假設對於 BERT 或其任何變體，我們想向模型中添加新詞彙。 在此示例中，我們有興趣組織、搜索或索引一些與 COVID-19 相關的科學文獻。 我們希望繼續使用新批次的 COVID-19 文獻對 SciBERT 進行訓練，以便我們可以組織與 COVID-19 相關的新舊研究。\n",
        "\n",
        "由於 SciBERT 在 COVID-19 爆發之前接受過訓練，因此這個詞可能不在詞彙表中。 事實上，我們可以確認它不是："
      ],
      "metadata": {
        "id": "dPm-VTAiAbke"
      }
    },
    {
      "cell_type": "code",
      "metadata": {
        "id": "C5knK645Tpep",
        "colab": {
          "base_uri": "https://localhost:8080/",
          "height": 34
        },
        "outputId": "11961e4d-c524-4754-bc01-e231260dc69c"
      },
      "source": [
        "'covid' in scibert_tokenizer.vocab"
      ],
      "execution_count": null,
      "outputs": [
        {
          "output_type": "execute_result",
          "data": {
            "text/plain": [
              "False"
            ]
          },
          "metadata": {
            "tags": []
          },
          "execution_count": 88
        }
      ]
    },
    {
      "cell_type": "markdown",
      "metadata": {
        "id": "WDeXRriPTuP7"
      },
      "source": [
        "While any word can be constructed out of constituent subwords, for example..."
      ]
    },
    {
      "cell_type": "markdown",
      "source": [
        "雖然任何單詞都可以由子詞組合而構成，例如......"
      ],
      "metadata": {
        "id": "PGI1-qX_BLev"
      }
    },
    {
      "cell_type": "code",
      "metadata": {
        "id": "GYxOYgM-S41n",
        "colab": {
          "base_uri": "https://localhost:8080/",
          "height": 34
        },
        "outputId": "46b538f1-25fe-481c-f735-ec11290009a8"
      },
      "source": [
        "scibert_tokenizer.tokenize(\"covid\")"
      ],
      "execution_count": null,
      "outputs": [
        {
          "output_type": "execute_result",
          "data": {
            "text/plain": [
              "['cov', '##id']"
            ]
          },
          "metadata": {
            "tags": []
          },
          "execution_count": 89
        }
      ]
    },
    {
      "cell_type": "markdown",
      "metadata": {
        "id": "TVaqRbdnS_Ac"
      },
      "source": [
        "...words like \"covid\" and \"coronavirus\" will be quite important for our research, so it is perhaps worth going out of our way to teach the model new vocabulary in hopes that it improves our results downstream.\n"
      ]
    },
    {
      "cell_type": "markdown",
      "source": [
        "...像“covid”和“coronavirus”這樣的詞對我們的研究來說非常重要，所以我們或許值得不遺餘力地教模型新詞彙，希望它能改善我們下游的結果。"
      ],
      "metadata": {
        "id": "dApndyAtCDf3"
      }
    },
    {
      "cell_type": "code",
      "metadata": {
        "id": "oUJttRZlsa9l",
        "colab": {
          "base_uri": "https://localhost:8080/",
          "height": 34
        },
        "outputId": "6ea281cc-31cc-4d1c-c37f-2f8c335a8d7a"
      },
      "source": [
        "test_sentence = \"COVID-19, COVID, coronavirus.\"\n",
        "scibert_tokenizer.tokenize(test_sentence)"
      ],
      "execution_count": null,
      "outputs": [
        {
          "output_type": "execute_result",
          "data": {
            "text/plain": [
              "['cov', '##id', '-', '19', ',', 'cov', '##id', ',', 'corona', '##virus', '.']"
            ]
          },
          "metadata": {
            "tags": []
          },
          "execution_count": 90
        }
      ]
    },
    {
      "cell_type": "markdown",
      "metadata": {
        "id": "JLTGw7Y0sQ86"
      },
      "source": [
        "None of these key terms are in the SciBERT vocabulary. Fortunately huggingface provides an interface to add to the tokenizer's vocabulary. We will just add a single token, \"covid\", to demonstrate the addition of new terms to the model, but you are able to add as many terms as you like."
      ]
    },
    {
      "cell_type": "code",
      "metadata": {
        "id": "96pXIsJHU0zq",
        "colab": {
          "base_uri": "https://localhost:8080/",
          "height": 34
        },
        "outputId": "f4ed6a0d-0c26-4405-dfd2-a1f37a71404f"
      },
      "source": [
        "print (len(scibert_tokenizer)) "
      ],
      "execution_count": null,
      "outputs": [
        {
          "output_type": "stream",
          "text": [
            "31090\n"
          ],
          "name": "stdout"
        }
      ]
    },
    {
      "cell_type": "code",
      "metadata": {
        "id": "7OJv-j7_U0rF",
        "colab": {
          "base_uri": "https://localhost:8080/",
          "height": 34
        },
        "outputId": "cc2f482e-843e-439f-9d7a-cc619749b353"
      },
      "source": [
        "scibert_tokenizer.add_tokens([\"covid\"])"
      ],
      "execution_count": null,
      "outputs": [
        {
          "output_type": "execute_result",
          "data": {
            "text/plain": [
              "1"
            ]
          },
          "metadata": {
            "tags": []
          },
          "execution_count": 92
        }
      ]
    },
    {
      "cell_type": "code",
      "metadata": {
        "id": "gWB5KopHU0kt",
        "colab": {
          "base_uri": "https://localhost:8080/",
          "height": 34
        },
        "outputId": "166c9df1-cba8-4d27-ce25-7b16a834da5f"
      },
      "source": [
        "print (len(scibert_tokenizer)) "
      ],
      "execution_count": null,
      "outputs": [
        {
          "output_type": "stream",
          "text": [
            "31091\n"
          ],
          "name": "stdout"
        }
      ]
    },
    {
      "cell_type": "code",
      "metadata": {
        "id": "VLJjJjfnsk6w",
        "colab": {
          "base_uri": "https://localhost:8080/",
          "height": 34
        },
        "outputId": "733f8f8d-cc24-4ded-cbc3-d044e3a664fc"
      },
      "source": [
        "test_sentence = \"COVID-19, COVID, coronavirus.\"\n",
        "scibert_tokenizer.tokenize(test_sentence)"
      ],
      "execution_count": null,
      "outputs": [
        {
          "output_type": "execute_result",
          "data": {
            "text/plain": [
              "['covid', '-', '19', ',', 'covid', ',', 'corona', '##virus', '.']"
            ]
          },
          "metadata": {
            "tags": []
          },
          "execution_count": 94
        }
      ]
    },
    {
      "cell_type": "markdown",
      "metadata": {
        "id": "zDygWV2p0YWr"
      },
      "source": [
        "Cool! \"covid\" is now part of the tokenizer vocabulary.\n",
        "\n",
        "Now that the tokenizer is updated, we need to update the input embeddings of our model. We added one term to the tokenizer vocabulary so we need to add one new vector to the input embeddings:"
      ]
    },
    {
      "cell_type": "code",
      "metadata": {
        "id": "uNHgxSlbVhNF",
        "colab": {
          "base_uri": "https://localhost:8080/",
          "height": 34
        },
        "outputId": "7023939f-7ca8-4b41-fd15-7404bc4429af"
      },
      "source": [
        "# Add a new randomly initialized vector to the end of the embeddings matrix\n",
        "scibert_maskedlm_model.resize_token_embeddings(len(scibert_tokenizer)) "
      ],
      "execution_count": null,
      "outputs": [
        {
          "output_type": "execute_result",
          "data": {
            "text/plain": [
              "Embedding(31091, 768)"
            ]
          },
          "metadata": {
            "tags": []
          },
          "execution_count": 95
        }
      ]
    },
    {
      "cell_type": "code",
      "metadata": {
        "id": "_QC1f52tNAsv",
        "colab": {
          "base_uri": "https://localhost:8080/",
          "height": 34
        },
        "outputId": "d5b26b4f-8746-473a-9248-d7cdc09750ec"
      },
      "source": [
        "# New radom embedding vector\n",
        "print (scibert_maskedlm_model.get_input_embeddings().weight[-1].shape)"
      ],
      "execution_count": null,
      "outputs": [
        {
          "output_type": "stream",
          "text": [
            "torch.Size([768])\n"
          ],
          "name": "stdout"
        }
      ]
    },
    {
      "cell_type": "code",
      "metadata": {
        "id": "de3lRFVuPbiq",
        "colab": {
          "base_uri": "https://localhost:8080/",
          "height": 281
        },
        "outputId": "9021c2f4-82d1-4433-94b2-0c1d3ca1e316"
      },
      "source": [
        "random_vector = scibert_maskedlm_model.get_input_embeddings().weight[-1].detach().numpy()\n",
        "\n",
        "plt.title(\"Randomly Initialized Vector\")\n",
        "plt.hist(random_vector, bins=50)\n",
        "plt.show()"
      ],
      "execution_count": null,
      "outputs": [
        {
          "output_type": "display_data",
          "data": {
            "image/png": "[encoded data removed]",
            "text/plain": [
              "<Figure size 432x288 with 1 Axes>"
            ]
          },
          "metadata": {
            "tags": [],
            "needs_background": "light"
          }
        }
      ]
    },
    {
      "cell_type": "markdown",
      "metadata": {
        "id": "C3NLAtfNUYSb"
      },
      "source": [
        "## 3.2 Create A Custom Embedding"
      ]
    },
    {
      "cell_type": "markdown",
      "metadata": {
        "id": "8K5_isAz1bCF"
      },
      "source": [
        "Great! We have a new embedding vector.\n",
        "\n",
        "There's a slight problem: this new \"covid\" vector is completely random while the rest of our input embeddings have been thoroughly trained. Our goal is to continue pretraining the model to update all weights in general, but also to achieve a good embedding for our new vocabulary term.\n",
        "\n",
        "One possible workaround is to change the random embedding to something else. Instead of initializing as a random vector, we can perhaps speed up the process by initializing \"covid\" with an embedding slightly closer to its meaning. In this example, the embedding for \"virus\" is probably a good place to start, but it's possible to combine the embeddings of multiple words into an embedding we think might best approximate the meaning of our new term. We'll combine the embedding for \"virus\" with the embedding for \"respiratory\" by taking the mean, but of course you can combine any number of terms in any way you think might best approximate your new vocabulary term's meaning.\n",
        "\n",
        "Note that this idea is experimental and application-dependent, but it's probably more efficient than training on a random initialization."
      ]
    },
    {
      "cell_type": "code",
      "metadata": {
        "id": "419-miHjAFlL"
      },
      "source": [
        "# Get the index of these terms in our vocabulary\n",
        "virus_id = scibert_tokenizer.convert_tokens_to_ids(\"virus\")\n",
        "respiratory_id = scibert_tokenizer.convert_tokens_to_ids(\"respiratory\")\n",
        "\n",
        "# Get the embeddings for these terms\n",
        "virus_embedding = scibert_maskedlm_model.get_input_embeddings().weight[virus_id]\n",
        "respiratory_embedding = scibert_maskedlm_model.get_input_embeddings().weight[respiratory_id]\n",
        "\n",
        "# Take the mean of these embeddings\n",
        "mean_embedding = torch.mean(torch.stack([virus_embedding, respiratory_embedding]), dim=0)"
      ],
      "execution_count": null,
      "outputs": []
    },
    {
      "cell_type": "code",
      "metadata": {
        "id": "NKfLYlLaCsIp"
      },
      "source": [
        "# Replace our randomly initialized embedding vector with our mean embedding vector\n",
        "# Make sure to replace the .data of the weights and not the weights themselves to preserve the compute graph \n",
        "scibert_maskedlm_model.get_input_embeddings().weight[-1].data[:] = mean_embedding"
      ],
      "execution_count": null,
      "outputs": []
    },
    {
      "cell_type": "markdown",
      "metadata": {
        "id": "P37ais0n3ycW"
      },
      "source": [
        "Let's take a look at the new mean embedding vector of \"covid\":"
      ]
    },
    {
      "cell_type": "code",
      "metadata": {
        "id": "rPaurTi8NNQ-",
        "colab": {
          "base_uri": "https://localhost:8080/",
          "height": 281
        },
        "outputId": "55d3da68-bdc3-4fa9-c383-f2d60e91bcb7"
      },
      "source": [
        "mean_vector = scibert_maskedlm_model.get_input_embeddings().weight[-1].detach().numpy()\n",
        "\n",
        "plt.title(\"Custom Initialized Vector\")\n",
        "plt.hist(mean_vector, bins=50)\n",
        "plt.show()"
      ],
      "execution_count": null,
      "outputs": [
        {
          "output_type": "display_data",
          "data": {
            "image/png": "[encoded data removed]",
            "text/plain": [
              "<Figure size 432x288 with 1 Axes>"
            ]
          },
          "metadata": {
            "tags": [],
            "needs_background": "light"
          }
        }
      ]
    },
    {
      "cell_type": "markdown",
      "metadata": {
        "id": "e4FAkuIf4DUE"
      },
      "source": [
        "As we can see, this is different from the randomly initialized vector we had before, so the update was successful."
      ]
    },
    {
      "cell_type": "markdown",
      "metadata": {
        "id": "KuQrWxu_Gpzn"
      },
      "source": [
        "Let's make a copy of our untrained SciBERT model to use for comparison later."
      ]
    },
    {
      "cell_type": "code",
      "metadata": {
        "id": "Q7xzyQuCF1xI"
      },
      "source": [
        "import copy\n",
        "\n",
        "untrained_scibert_model_with_custom_embedding = copy.deepcopy(scibert_maskedlm_model)\n",
        "untrained_scibert_tokenizer_with_custom_embedding = copy.deepcopy(scibert_tokenizer)"
      ],
      "execution_count": null,
      "outputs": []
    },
    {
      "cell_type": "markdown",
      "metadata": {
        "id": "Bh3ouF7NXATL"
      },
      "source": [
        "# S4. Continue Pretraining the Model\n",
        "\n",
        "Now, with our updated vocabulary let's continue to train SciBERT on COVID-19 literature to improve downstream model performance on COVID-19 related NLP tasks."
      ]
    },
    {
      "cell_type": "markdown",
      "metadata": {
        "id": "0tF-FQ1JUiAu"
      },
      "source": [
        "## 4.1 Getting our Dataset Ready"
      ]
    },
    {
      "cell_type": "markdown",
      "metadata": {
        "id": "SeA1g4LT4aG0"
      },
      "source": [
        "The [CORD-19](https://allenai.org/data/cord-19) dataset from Allen AI is large collection of COVID-19 related text and numerical data. This data has been used by the data science community to produce insights and analysis to further progress COVID-19 research and care. If this interests you, check out Kaggle for a ton of great user-submitted analyses and focused research questions that the medical community is trying to answer.\n",
        "\n",
        "The CORD-19 dataset is, however, very large and requires preprocessing, so for our purposes of demonstrating pretraining we will use a smaller subset of coronavirus research. [This dataset](https://www.kaggle.com/phiitm/covid19-research-preprint-data) made by Pranav Hari contains several thousand rows of data on COVID-19 research papers, including the abstract for each paper. This is the text that we will use for continuing pretraining. "
      ]
    },
    {
      "cell_type": "markdown",
      "metadata": {
        "id": "gr8Dk-F87LQ7"
      },
      "source": [
        "We've added the dataset to Google Drive beforehand and can now download the dataset using the unique Drive ID:"
      ]
    },
    {
      "cell_type": "code",
      "metadata": {
        "id": "VMl5gBz_9bfQ",
        "colab": {
          "base_uri": "https://localhost:8080/",
          "height": 120
        },
        "outputId": "abb68780-91bf-48cc-e79f-3ce1f2a3c810"
      },
      "source": [
        "import gdown\n",
        "\n",
        "print('Downloading data...')\n",
        "\n",
        "# Specify the name to give the file locally. \n",
        "output = 'abstracts.csv'\n",
        "    \n",
        "# Specify the Google Drive ID of the file.\n",
        "file_id = '1bv_iRnYyfbOA5OfGqR_shYHFuARkPZRT'\n",
        "    \n",
        "# Download the file.\n",
        "gdown.download('https://drive.google.com/uc?id=' + file_id, output, \n",
        "                quiet=False)\n",
        "\n",
        "print('DONE.')"
      ],
      "execution_count": null,
      "outputs": [
        {
          "output_type": "stream",
          "text": [
            "Downloading data...\n"
          ],
          "name": "stdout"
        },
        {
          "output_type": "stream",
          "text": [
            "Downloading...\n",
            "From: https://drive.google.com/uc?id=1bv_iRnYyfbOA5OfGqR_shYHFuARkPZRT\n",
            "To: /content/abstracts.csv\n",
            "11.8MB [00:00, 238MB/s]"
          ],
          "name": "stderr"
        },
        {
          "output_type": "stream",
          "text": [
            "DONE.\n"
          ],
          "name": "stdout"
        },
        {
          "output_type": "stream",
          "text": [
            "\n"
          ],
          "name": "stderr"
        }
      ]
    },
    {
      "cell_type": "code",
      "metadata": {
        "id": "AmZMLBk-z5FC"
      },
      "source": [
        "import pandas as pd\n",
        "\n",
        "df = pd.read_csv('abstracts.csv')"
      ],
      "execution_count": null,
      "outputs": []
    },
    {
      "cell_type": "markdown",
      "metadata": {
        "id": "KdEnm0j_7ddQ"
      },
      "source": [
        "Let's take a quick look at the dataset:"
      ]
    },
    {
      "cell_type": "code",
      "metadata": {
        "id": "vX1WyRUfjWV5",
        "colab": {
          "base_uri": "https://localhost:8080/",
          "height": 620
        },
        "outputId": "87fd3ee1-0d4d-41a5-c2aa-e9e2c4e4a11e"
      },
      "source": [
        "df.head()"
      ],
      "execution_count": null,
      "outputs": [
        {
          "output_type": "execute_result",
          "data": {
            "text/html": [
              "<div>\n",
              "<style scoped>\n",
              "    .dataframe tbody tr th:only-of-type {\n",
              "        vertical-align: middle;\n",
              "    }\n",
              "\n",
              "    .dataframe tbody tr th {\n",
              "        vertical-align: top;\n",
              "    }\n",
              "\n",
              "    .dataframe thead th {\n",
              "        text-align: right;\n",
              "    }\n",
              "</style>\n",
              "<table border=\"1\" class=\"dataframe\">\n",
              "  <thead>\n",
              "    <tr style=\"text-align: right;\">\n",
              "      <th></th>\n",
              "      <th>DOI</th>\n",
              "      <th>Date of Upload</th>\n",
              "      <th>Title of preprint</th>\n",
              "      <th>Preprint Link</th>\n",
              "      <th>Abstract</th>\n",
              "      <th>Number of Authors</th>\n",
              "      <th>Authors</th>\n",
              "      <th>Author(s) Institutions</th>\n",
              "      <th>Uploaded Site</th>\n",
              "    </tr>\n",
              "  </thead>\n",
              "  <tbody>\n",
              "    <tr>\n",
              "      <th>0</th>\n",
              "      <td>10.1101/2020.06.19.20135996</td>\n",
              "      <td>2020-06-20</td>\n",
              "      <td>The support needs of Australian primary health...</td>\n",
              "      <td>http://medrxiv.org/cgi/content/short/2020.06.1...</td>\n",
              "      <td>Aim: To identify Australian primary healthcare...</td>\n",
              "      <td>7</td>\n",
              "      <td>['Elizabeth Halcomb', 'Anna Williams', 'Christ...</td>\n",
              "      <td>{\"University of Wollongong\": 6, \"University of...</td>\n",
              "      <td>medrxiv</td>\n",
              "    </tr>\n",
              "    <tr>\n",
              "      <th>1</th>\n",
              "      <td>10.1101/2020.06.18.20135103</td>\n",
              "      <td>2020-06-20</td>\n",
              "      <td>Modeling quantitative traits for COVID-19 case...</td>\n",
              "      <td>http://medrxiv.org/cgi/content/short/2020.06.1...</td>\n",
              "      <td>Medical practitioners record the condition sta...</td>\n",
              "      <td>6</td>\n",
              "      <td>['Nuria Queralt-Rosinach', 'Susan Bello', 'Rob...</td>\n",
              "      <td>{\"Leids Universitair Medisch Centrum\": 1, \"The...</td>\n",
              "      <td>medrxiv</td>\n",
              "    </tr>\n",
              "    <tr>\n",
              "      <th>2</th>\n",
              "      <td>10.1101/2020.06.19.20135905</td>\n",
              "      <td>2020-06-20</td>\n",
              "      <td>SARS-CoV-2 RT-PCR profile in 298 Indian COVID-...</td>\n",
              "      <td>http://medrxiv.org/cgi/content/short/2020.06.1...</td>\n",
              "      <td>Background: Despite being in the 5th month of ...</td>\n",
              "      <td>9</td>\n",
              "      <td>['bisakh bhattacharya', 'Rohit Kumar', 'Dr. Ve...</td>\n",
              "      <td>{\"AIIMS, New Delhi\": 8, \"All India Institute o...</td>\n",
              "      <td>medrxiv</td>\n",
              "    </tr>\n",
              "    <tr>\n",
              "      <th>3</th>\n",
              "      <td>10.1101/2020.06.19.20135491</td>\n",
              "      <td>2020-06-20</td>\n",
              "      <td>Inhaled corticosteroid use and risk COVID-19 r...</td>\n",
              "      <td>http://medrxiv.org/cgi/content/short/2020.06.1...</td>\n",
              "      <td>Background: Early descriptions of the coronavi...</td>\n",
              "      <td>33</td>\n",
              "      <td>['- The OpenSAFELY Collaborative', 'Anna Schul...</td>\n",
              "      <td>{\"\": 1, \"London School of Hygiene and Tropical...</td>\n",
              "      <td>medrxiv</td>\n",
              "    </tr>\n",
              "    <tr>\n",
              "      <th>4</th>\n",
              "      <td>10.1101/2020.06.19.20135533</td>\n",
              "      <td>2020-06-20</td>\n",
              "      <td>The immediate psychological response of the ge...</td>\n",
              "      <td>http://medrxiv.org/cgi/content/short/2020.06.1...</td>\n",
              "      <td>Background: The health and economic burden pan...</td>\n",
              "      <td>4</td>\n",
              "      <td>['Royes Joseph', 'Dhfer Alshayban', 'Jisha M L...</td>\n",
              "      <td>{\"College of Clinical Pharmacy, Imam Abdulrahm...</td>\n",
              "      <td>medrxiv</td>\n",
              "    </tr>\n",
              "  </tbody>\n",
              "</table>\n",
              "</div>"
            ],
            "text/plain": [
              "                           DOI  ... Uploaded Site\n",
              "0  10.1101/2020.06.19.20135996  ...       medrxiv\n",
              "1  10.1101/2020.06.18.20135103  ...       medrxiv\n",
              "2  10.1101/2020.06.19.20135905  ...       medrxiv\n",
              "3  10.1101/2020.06.19.20135491  ...       medrxiv\n",
              "4  10.1101/2020.06.19.20135533  ...       medrxiv\n",
              "\n",
              "[5 rows x 9 columns]"
            ]
          },
          "metadata": {
            "tags": []
          },
          "execution_count": 3
        }
      ]
    },
    {
      "cell_type": "markdown",
      "metadata": {
        "id": "bAKBGaxY7gqS"
      },
      "source": [
        "What we're really interested in is text data for pretraining, so we'll use the abstracts from these research papers."
      ]
    },
    {
      "cell_type": "code",
      "metadata": {
        "id": "fKbMh_iwj2nh",
        "colab": {
          "base_uri": "https://localhost:8080/",
          "height": 106
        },
        "outputId": "c443e3ba-ceb2-4069-ac60-d0fe79819955"
      },
      "source": [
        "# Examples of our abstracts\n",
        "df.Abstract.values[:3]"
      ],
      "execution_count": null,
      "outputs": [
        {
          "output_type": "execute_result",
          "data": {
            "text/plain": [
              "array([\"Aim: To identify Australian primary healthcare nurses immediate support needs during the COVID-19 pandemic. Background: COVID-19 has had widespread implications for primary healthcare nurses. Supporting these nurses' capacity to deliver quality care ensures that ongoing health needs can be met. Methods: Primary healthcare nurses were recruited to an online survey via social media and professional organisations in April 2020. Results: Six-hundred and thirty-seven responses were included in analysis. Participants provided 1213 statements about perceived supports required to provide quality clinical care. From these, seven key categories emerged, namely; personal protective equipment, communication, funding, industrial issues, self-care, workplace factors and valuing nurses. Conclusion: A number of key issues relating to personal health and safety, care quality, and job security need to be addressed to support primary healthcare nurses during the COVID-19 pandemic. Addressing these support issues can assist in retaining nurses and optimising the role of primary healthcare nurses during a pandemic. Implications for nursing management: Responding to the needs of primary healthcare nurses has the potential to facilitate their role in providing community-based healthcare. This knowledge can guide the provision of support for primary healthcare nurses during the current pandemic, as well as informing planning for future health crises.\",\n",
              "       'Medical practitioners record the condition status of a patient through qualitative and quantitative observations. The measurement of vital signs and molecular parameters in the clinics gives a complementary description of abnormal phenotypes associated with the progression of a disease. The Clinical Measurement Ontology (CMO) is used to standardize annotations of these measurable traits. However, researchers have no way to describe how these quantitative traits relate to phenotype concepts in a machine-readable manner. Using the WHO clinical case report form standard for the COVID-19 pandemic, we modeled quantitative traits and developed OWL axioms to formally relate clinical measurement terms with anatomical, biomolecular entities and phenotypes annotated with the Uber-anatomy ontology (Uberon), Chemical Entities of Biological Interest (ChEBI) and the Phenotype and Trait Ontology (PATO) biomedical ontologies. The formal description of these relations allows interoperability between clinical and biological descriptions, and facilitates automated reasoning for analysis of patterns over quantitative and qualitative biomedical observations.',\n",
              "       'Background: Despite being in the 5th month of pandemic, knowledge with respect to viral dynamics, infectivity and RT-PCR positivity continues to evolve. Aim: To analyse the SARS CoV-2 nucleic acid RT-PCR profiles in COVID-19 patients. Design: It was a retrospective, observational study conducted at COVID facilities under AIIMS, New Delhi. Methods : Patients admitted with laboratory confirmed COVID-19 were eligible for enrolment. Patients with incomplete details, or only single PCR tests were excluded. Data regarding demographic details, comorbidities, treatment received and results of SARS-CoV-2 RT-PCR performed on nasopharyngeal and oropharyngeal swabs, collected at different time points, was retrieved from the hospital records. Results : 298 patients were included, majority were males (75.8%) with mean age of 39.07 years (0.6-88 years). The mean duration from symptom onset to first positive RT-PCR was 4.7 days (SD 3.67), while that of symptom onset to last positive test was 17.83 days (SD 6.22). Proportions of positive RT-PCR tests were 100%, 49%, 24%, 8.7% and 20.6% in the 1st, 2nd, 3rd, 4th & >4 weeks of illness. 12 symptomatic patients had prolonged positive test results even after 3 weeks of symptom onset. Age >= 60 years was associated with prolonged RT-PCR positivity (statistically significant). Conclusion : This study showed that the average period of PCR positivity is more than 2 weeks in COVID-19 patients; elderly patients have prolonged duration of RT-PCR positivity and requires further follow up.'],\n",
              "      dtype=object)"
            ]
          },
          "metadata": {
            "tags": []
          },
          "execution_count": 104
        }
      ]
    },
    {
      "cell_type": "code",
      "metadata": {
        "id": "DvslNHmT-xi2"
      },
      "source": [
        "abstracts = df.Abstract.values"
      ],
      "execution_count": null,
      "outputs": []
    },
    {
      "cell_type": "markdown",
      "metadata": {
        "id": "x7fEkhvv7tO2"
      },
      "source": [
        "Next, we'll write all of the abstracts line by line to a text file. This provides an easy and memory efficient format for the training loop below, but you can customize the input and data format to match your dataset so long as you update the huggingface Trainer interface below."
      ]
    },
    {
      "cell_type": "code",
      "metadata": {
        "id": "vn6diz3Cnn3R"
      },
      "source": [
        "outfile = open(\"abstracts.txt\", \"w\")\n",
        "for line in abstracts:\n",
        "  outfile.write(line.lower())\n",
        "  outfile.write(\"\\n\")\n",
        "outfile.close()"
      ],
      "execution_count": null,
      "outputs": []
    },
    {
      "cell_type": "markdown",
      "metadata": {
        "id": "o6NuiBXMVHaf"
      },
      "source": [
        "## 4.2 Training the Model"
      ]
    },
    {
      "cell_type": "code",
      "metadata": {
        "id": "3hkk6baMG_ZV",
        "colab": {
          "base_uri": "https://localhost:8080/",
          "height": 362
        },
        "outputId": "8ed64e49-7af7-400c-e6bd-48140a5e2715"
      },
      "source": [
        "# Check that we have a GPU for training\n",
        "!nvidia-smi"
      ],
      "execution_count": null,
      "outputs": [
        {
          "output_type": "stream",
          "text": [
            "Wed Jun 24 19:49:28 2020       \n",
            "+-----------------------------------------------------------------------------+\n",
            "| NVIDIA-SMI 450.36.06    Driver Version: 418.67       CUDA Version: 10.1     |\n",
            "|-------------------------------+----------------------+----------------------+\n",
            "| GPU  Name        Persistence-M| Bus-Id        Disp.A | Volatile Uncorr. ECC |\n",
            "| Fan  Temp  Perf  Pwr:Usage/Cap|         Memory-Usage | GPU-Util  Compute M. |\n",
            "|                               |                      |               MIG M. |\n",
            "|===============================+======================+======================|\n",
            "|   0  Tesla K80           Off  | 00000000:00:04.0 Off |                    0 |\n",
            "| N/A   48C    P0    60W / 149W |   8107MiB / 11441MiB |      0%      Default |\n",
            "|                               |                      |                 ERR! |\n",
            "+-------------------------------+----------------------+----------------------+\n",
            "                                                                               \n",
            "+-----------------------------------------------------------------------------+\n",
            "| Processes:                                                                  |\n",
            "|  GPU   GI   CI        PID   Type   Process name                  GPU Memory |\n",
            "|        ID   ID                                                   Usage      |\n",
            "|=============================================================================|\n",
            "|  No running processes found                                                 |\n",
            "+-----------------------------------------------------------------------------+\n"
          ],
          "name": "stdout"
        }
      ]
    },
    {
      "cell_type": "code",
      "metadata": {
        "id": "bkSDG9aV6HoT",
        "colab": {
          "base_uri": "https://localhost:8080/",
          "height": 34
        },
        "outputId": "fc60dd5f-d37a-4c80-b9fb-96ea86b0f6ae"
      },
      "source": [
        "# Check that PyTorch sees it\n",
        "torch.cuda.is_available()"
      ],
      "execution_count": null,
      "outputs": [
        {
          "output_type": "execute_result",
          "data": {
            "text/plain": [
              "True"
            ]
          },
          "metadata": {
            "tags": []
          },
          "execution_count": 108
        }
      ]
    },
    {
      "cell_type": "markdown",
      "metadata": {
        "id": "gFLfb_HY9085"
      },
      "source": [
        "The code below for training and evaluation is based heavily on the [\"how to train\" tutorial](https://colab.research.google.com/github/huggingface/blog/blob/master/notebooks/01_how_to_train.ipynb) provided by huggingface, and demonstrates the use of their Trainer class and Pipeline class. The Trainer class is an alternative to writing your own training loop, and provides the same level of specification with much less code! The pipeline class is also a handy way to evaluate and test your model without having to manually code inputs, outputs, similarity comparisons, etc.\n",
        "\n",
        "(By the way, if you'd like to train a tokenizer and model from scratch the huggingface tutorial is a great resource!)"
      ]
    },
    {
      "cell_type": "code",
      "metadata": {
        "id": "Ei1QzSi0Qbyw"
      },
      "source": [
        "from transformers import LineByLineTextDataset\n",
        "\n",
        "# Create a LineByLineTextDataset interface for reading and tokenizing our text dataset\n",
        "dataset = LineByLineTextDataset(\n",
        "    tokenizer=scibert_tokenizer,\n",
        "    file_path=\"abstracts.txt\",\n",
        "    block_size=128,\n",
        ")"
      ],
      "execution_count": null,
      "outputs": []
    },
    {
      "cell_type": "markdown",
      "metadata": {
        "id": "2K2xR-R0_AQN"
      },
      "source": [
        "The DataCollatorForLanguageModeling creates batches out of our dataset and allows us to specify the MLM probability for training."
      ]
    },
    {
      "cell_type": "code",
      "metadata": {
        "id": "g-RLbzsYQcC9"
      },
      "source": [
        "from transformers import DataCollatorForLanguageModeling\n",
        "\n",
        "data_collator = DataCollatorForLanguageModeling(\n",
        "    tokenizer=scibert_tokenizer, mlm=True, mlm_probability=0.15\n",
        ")"
      ],
      "execution_count": null,
      "outputs": []
    },
    {
      "cell_type": "markdown",
      "metadata": {
        "id": "Xl38D7VH_e53"
      },
      "source": [
        "With the TrainingArguments class you can customize nearly every optimizer parameter, logging parameter, training loop parameter, etc. in one place. \n",
        "\n",
        "We'll train for just two epochs so we can quickly examine the results and check that the model has updated with continued training."
      ]
    },
    {
      "cell_type": "code",
      "metadata": {
        "id": "63duaJUgeQyq"
      },
      "source": [
        "from transformers import Trainer, TrainingArguments\n",
        "\n",
        "training_args = TrainingArguments(   \n",
        "    output_dir=\"./\",\n",
        "    overwrite_output_dir=True,\n",
        "    learning_rate=5e-05, \n",
        "    num_train_epochs=1,\n",
        "    per_gpu_train_batch_size=32,\n",
        "    save_steps=500,\n",
        "    save_total_limit=2,\n",
        ")\n",
        "\n",
        "trainer = Trainer(\n",
        "    model=scibert_maskedlm_model,\n",
        "    args=training_args,\n",
        "    data_collator=data_collator,\n",
        "    train_dataset= dataset\n",
        ")"
      ],
      "execution_count": null,
      "outputs": []
    },
    {
      "cell_type": "code",
      "metadata": {
        "id": "XGs_ipsJ5sBw",
        "colab": {
          "base_uri": "https://localhost:8080/",
          "height": 222,
          "referenced_widgets": [
            "b598157a04a74bcda1e52a240d06399c",
            "07eced1a774b438da179bed801638e48",
            "3b792004ab754fa5a02fa96f2fa16162",
            "0dec6cd1697a4f9ba4aba0ff3fd11093",
            "da7a1d7cce804e29906d3d4757b0b9f3",
            "a61bab9d35e247d6be4c77ae6adca33c",
            "80d1ded3744b42b2894ce1962b2c93a7",
            "8070eb7ac493436d9719a544b9ce41a2",
            "b6a41ae6af234de4b96bad725e0f6db5",
            "59655e281b8c4f3181c8e6c26015e202",
            "a607a55e6f7140ffa00053ee5b33bd91",
            "a1299c48e2df4a68b0d9470f2d7595a6",
            "dc36c38d37fe4bc2acf626e5284fc4d5",
            "25b6f0f2f3ad4adfbc76c0c97bd21b75",
            "96be4784928242cea94fbef3f43c605c",
            "0d3e656adef04df682a36d4afb9e3ee4"
          ]
        },
        "outputId": "b4ea46c2-b1f0-4e36-e3ad-1366a3db1b86"
      },
      "source": [
        "%%time\n",
        "trainer.train()"
      ],
      "execution_count": null,
      "outputs": [
        {
          "output_type": "stream",
          "text": [
            "Using deprecated `--per_gpu_train_batch_size` argument which will be removed in a future version. Using `--per_device_train_batch_size` is preferred.\n",
            "Using deprecated `--per_gpu_train_batch_size` argument which will be removed in a future version. Using `--per_device_train_batch_size` is preferred.\n"
          ],
          "name": "stderr"
        },
        {
          "output_type": "display_data",
          "data": {
            "application/vnd.jupyter.widget-view+json": {
              "model_id": "b598157a04a74bcda1e52a240d06399c",
              "version_minor": 0,
              "version_major": 2
            },
            "text/plain": [
              "HBox(children=(FloatProgress(value=0.0, description='Epoch', max=1.0, style=ProgressStyle(description_width='i…"
            ]
          },
          "metadata": {
            "tags": []
          }
        },
        {
          "output_type": "display_data",
          "data": {
            "application/vnd.jupyter.widget-view+json": {
              "model_id": "b6a41ae6af234de4b96bad725e0f6db5",
              "version_minor": 0,
              "version_major": 2
            },
            "text/plain": [
              "HBox(children=(FloatProgress(value=0.0, description='Iteration', max=190.0, style=ProgressStyle(description_wi…"
            ]
          },
          "metadata": {
            "tags": []
          }
        },
        {
          "output_type": "stream",
          "text": [
            "\n",
            "\n",
            "CPU times: user 2min 59s, sys: 1min 59s, total: 4min 58s\n",
            "Wall time: 4min 59s\n"
          ],
          "name": "stdout"
        },
        {
          "output_type": "execute_result",
          "data": {
            "text/plain": [
              "TrainOutput(global_step=190, training_loss=1.4379032254219055)"
            ]
          },
          "metadata": {
            "tags": []
          },
          "execution_count": 174
        }
      ]
    },
    {
      "cell_type": "code",
      "metadata": {
        "id": "G41NPEUXhpnB"
      },
      "source": [
        "# Save the model\n",
        "trainer.save_model(\"./covid_trained\")"
      ],
      "execution_count": null,
      "outputs": []
    },
    {
      "cell_type": "markdown",
      "metadata": {
        "id": "Szt5K-WzVNc7"
      },
      "source": [
        "# S5. Examining our Results"
      ]
    },
    {
      "cell_type": "markdown",
      "metadata": {
        "id": "pcSjXYAbsQh7"
      },
      "source": [
        "OK, let's take a look at the results of our trained model."
      ]
    },
    {
      "cell_type": "code",
      "metadata": {
        "id": "Wk0OasK6jpYg"
      },
      "source": [
        "# Load our saved model and check out our embeddings!\n",
        "from transformers import BertForMaskedLM\n",
        "trained_model = BertForMaskedLM.from_pretrained(\"./covid_trained\")\n"
      ],
      "execution_count": null,
      "outputs": []
    },
    {
      "cell_type": "markdown",
      "metadata": {
        "id": "LeY6piflsZGT"
      },
      "source": [
        "## 5.1 Check Embeddings"
      ]
    },
    {
      "cell_type": "markdown",
      "metadata": {
        "id": "NjlqxWXzVSXf"
      },
      "source": [
        "Here's the original custom embedding we used for \"covid\":"
      ]
    },
    {
      "cell_type": "code",
      "metadata": {
        "id": "5alIWoYipEmS",
        "colab": {
          "base_uri": "https://localhost:8080/",
          "height": 281
        },
        "outputId": "f5d04896-1316-4ee7-fa1c-d4ec83ef2e78"
      },
      "source": [
        "mean_vector = mean_embedding.detach().numpy()\n",
        "\n",
        "plt.title(\"Custom Initialized Vector Before Training\")\n",
        "plt.hist(mean_vector, bins=50)\n",
        "plt.show()"
      ],
      "execution_count": null,
      "outputs": [
        {
          "output_type": "display_data",
          "data": {
            "image/png": "[encoded data removed]",
            "text/plain": [
              "<Figure size 432x288 with 1 Axes>"
            ]
          },
          "metadata": {
            "tags": [],
            "needs_background": "light"
          }
        }
      ]
    },
    {
      "cell_type": "markdown",
      "metadata": {
        "id": "KKe_bL3fVWjh"
      },
      "source": [
        "And here's the same vector after our training:"
      ]
    },
    {
      "cell_type": "code",
      "metadata": {
        "id": "fst_21HppEhK",
        "colab": {
          "base_uri": "https://localhost:8080/",
          "height": 281
        },
        "outputId": "49f3de17-a778-4225-a1df-b9926a069255"
      },
      "source": [
        "trained_vector = trained_model.get_input_embeddings().weight[-1].detach().numpy()\n",
        "\n",
        "plt.title(\"Custom Initialized Vector After Training\")\n",
        "plt.hist(trained_vector, bins=50)\n",
        "plt.show()"
      ],
      "execution_count": null,
      "outputs": [
        {
          "output_type": "display_data",
          "data": {
            "image/png": "[encoded data removed]",
            "text/plain": [
              "<Figure size 432x288 with 1 Axes>"
            ]
          },
          "metadata": {
            "tags": [],
            "needs_background": "light"
          }
        }
      ]
    },
    {
      "cell_type": "markdown",
      "metadata": {
        "id": "tiWxxJ-jB86j"
      },
      "source": [
        "Great! Training has updated our new input embedding for \"covid\" and has updated the weights in the rest of our model."
      ]
    },
    {
      "cell_type": "markdown",
      "metadata": {
        "id": "DMcm6AMsseqk"
      },
      "source": [
        "## 5.2 Check Token Predictions"
      ]
    },
    {
      "cell_type": "markdown",
      "metadata": {
        "id": "h2d1xCCbJkPM"
      },
      "source": [
        "Now let's compare the term \"covid\" on three versions of our model:\n",
        "\n",
        "\n",
        "\n",
        "1.   Original SciBERT with original SciBERT tokenizer\n",
        "2.   SciBERT with a custom embedding for \"covid\" with updated SciBERT tokenizer\n",
        "3.   SciBERT with a custom embedding for \"covid\" that has been trained on COVID-19 text with updated SciBERT tokenizer\n",
        "\n",
        "Let's load the original SciBERT and SciBERT tokenizer:\n",
        "\n"
      ]
    },
    {
      "cell_type": "code",
      "metadata": {
        "id": "Nh0grugQpEbJ"
      },
      "source": [
        "# Load the original SciBERT\n",
        "original_scibert_model = BertForMaskedLM.from_pretrained(\"allenai/scibert_scivocab_uncased\")\n",
        "original_scibert_tokenizer = BertTokenizer.from_pretrained(\"allenai/scibert_scivocab_uncased\", do_lower_case=True)"
      ],
      "execution_count": null,
      "outputs": []
    },
    {
      "cell_type": "markdown",
      "metadata": {
        "id": "H1wDGlE_V1LE"
      },
      "source": [
        "OK, now we have all three models loaded. \n",
        "\n",
        "We'll use the huggingface pipeline class to do a quick comparison of our embeddings. The \"fill-mask\" option lets us feed in a sentence with one token substituted with a mask token. The sentence gets tokenized, run through the model, and returns the top N most probable tokens to fill that embedding."
      ]
    },
    {
      "cell_type": "code",
      "metadata": {
        "id": "0Kz0hg_jPOqJ"
      },
      "source": [
        "from transformers import pipeline\n",
        "\n",
        "# Pipeline for Original SciBERT\n",
        "fill_mask_original_scibert = pipeline( \n",
        "    \"fill-mask\",\n",
        "    model=original_scibert_model,\n",
        "    tokenizer=original_scibert_tokenizer\n",
        ")\n",
        "\n",
        "# Pipeline for our custom \"covid\" embedding\n",
        "fill_mask_untrained_scibert_with_embedding = pipeline( \n",
        "    \"fill-mask\",\n",
        "    model=untrained_scibert_model_with_custom_embedding,\n",
        "    tokenizer=untrained_scibert_tokenizer_with_custom_embedding\n",
        ")\n",
        "\n",
        "# Pipeline for our trained model\n",
        "fill_mask_trained_scibert = pipeline( \n",
        "    \"fill-mask\",\n",
        "    model=trained_model,\n",
        "    tokenizer=untrained_scibert_tokenizer_with_custom_embedding\n",
        ")"
      ],
      "execution_count": null,
      "outputs": []
    },
    {
      "cell_type": "code",
      "metadata": {
        "id": "8z33DmLLWNrY",
        "colab": {
          "base_uri": "https://localhost:8080/",
          "height": 34
        },
        "outputId": "642eb4ef-afad-42e7-8012-f4476c49b0b3"
      },
      "source": [
        "# Check to see what the tokenizer's mask token is\n",
        "original_scibert_tokenizer.mask_token"
      ],
      "execution_count": null,
      "outputs": [
        {
          "output_type": "execute_result",
          "data": {
            "text/plain": [
              "'[MASK]'"
            ]
          },
          "metadata": {
            "tags": []
          },
          "execution_count": 181
        }
      ]
    },
    {
      "cell_type": "markdown",
      "metadata": {
        "id": "u_L6n2PRWVcj"
      },
      "source": [
        "OK! Now we can run the same sentence:\n",
        "\n",
        "**\"covid is a [MASK]\"**\n",
        "\n",
        "through our three models and see what it predicts as most likely on the other end!"
      ]
    },
    {
      "cell_type": "markdown",
      "metadata": {
        "id": "LUkboBYl8d-c"
      },
      "source": [
        "As we expected, the **Original SciBERT** doesn't have a good idea of what \"covid\" is at all, it's simply trying to make sense out of subtokens \"cov\" + \"##id\""
      ]
    },
    {
      "cell_type": "code",
      "metadata": {
        "id": "OHOSRAhKPOjc",
        "colab": {
          "base_uri": "https://localhost:8080/",
          "height": 276
        },
        "outputId": "7ea8a537-5bb0-497f-d279-b72532106e4c"
      },
      "source": [
        "fill_mask_original_scibert(\"covid is a [MASK].\")"
      ],
      "execution_count": null,
      "outputs": [
        {
          "output_type": "execute_result",
          "data": {
            "text/plain": [
              "[{'score': 0.02992258034646511,\n",
              "  'sequence': '[CLS] covid is a constant. [SEP]',\n",
              "  'token': 2080},\n",
              " {'score': 0.015606057830154896,\n",
              "  'sequence': '[CLS] covid is a singleton. [SEP]',\n",
              "  'token': 23128},\n",
              " {'score': 0.015586997382342815,\n",
              "  'sequence': '[CLS] covid is a set. [SEP]',\n",
              "  'token': 610},\n",
              " {'score': 0.015000350773334503,\n",
              "  'sequence': '[CLS] covid is a proof. [SEP]',\n",
              "  'token': 2254},\n",
              " {'score': 0.014042431488633156,\n",
              "  'sequence': '[CLS] covid is a vector. [SEP]',\n",
              "  'token': 2069}]"
            ]
          },
          "metadata": {
            "tags": []
          },
          "execution_count": 182
        }
      ]
    },
    {
      "cell_type": "markdown",
      "metadata": {
        "id": "awGG4lcu8zjv"
      },
      "source": [
        "**SciBERT with a custom embedding for \"covid\"** does substantially better. As it turns out, our custom embedding of \"virus\" + \"respiratory\" does a pretty good first pass job."
      ]
    },
    {
      "cell_type": "code",
      "metadata": {
        "id": "i1cAuTnXSp2v",
        "colab": {
          "base_uri": "https://localhost:8080/",
          "height": 276
        },
        "outputId": "ad87f85c-416f-4d7b-de35-22b0b7e43280"
      },
      "source": [
        "fill_mask_untrained_scibert_with_embedding(\"covid is a [MASK].\")"
      ],
      "execution_count": null,
      "outputs": [
        {
          "output_type": "execute_result",
          "data": {
            "text/plain": [
              "[{'score': 0.24134275317192078,\n",
              "  'sequence': '[CLS] covid is a virus. [SEP]',\n",
              "  'token': 2930},\n",
              " {'score': 0.015654005110263824,\n",
              "  'sequence': '[CLS] covid is a disease. [SEP]',\n",
              "  'token': 1288},\n",
              " {'score': 0.00870219524949789,\n",
              "  'sequence': '[CLS] covid is a problem. [SEP]',\n",
              "  'token': 1167},\n",
              " {'score': 0.00780594814568758,\n",
              "  'sequence': '[CLS] covid is a name. [SEP]',\n",
              "  'token': 5147},\n",
              " {'score': 0.007489326875656843,\n",
              "  'sequence': '[CLS] covid is a pandemic. [SEP]',\n",
              "  'token': 26196}]"
            ]
          },
          "metadata": {
            "tags": []
          },
          "execution_count": 183
        }
      ]
    },
    {
      "cell_type": "markdown",
      "metadata": {
        "id": "s1uOG5dT9NsS"
      },
      "source": [
        "Even with just one epoch of training on some abstracts, **Trained SciBERT** does an even better job. Notice here that the scores values are higher than they were for our custom embedding and the predicted tokens are more accurate; the uninformative \"name\" was a top 5 candidate for our custom embedding but for our trained model this is replaced with \"pathogen.\""
      ]
    },
    {
      "cell_type": "code",
      "metadata": {
        "id": "xlBVkGEpSpwk",
        "colab": {
          "base_uri": "https://localhost:8080/",
          "height": 276
        },
        "outputId": "aef48ba4-af2d-4919-b39e-20186536c1e8"
      },
      "source": [
        "fill_mask_trained_scibert(\"covid is a [MASK].\")"
      ],
      "execution_count": null,
      "outputs": [
        {
          "output_type": "execute_result",
          "data": {
            "text/plain": [
              "[{'score': 0.7195270657539368,\n",
              "  'sequence': '[CLS] covid is a pandemic. [SEP]',\n",
              "  'token': 26196},\n",
              " {'score': 0.08424169570207596,\n",
              "  'sequence': '[CLS] covid is a disease. [SEP]',\n",
              "  'token': 1288},\n",
              " {'score': 0.05053684487938881,\n",
              "  'sequence': '[CLS] covid is a virus. [SEP]',\n",
              "  'token': 2930},\n",
              " {'score': 0.0171565730124712,\n",
              "  'sequence': '[CLS] covid is a pathogen. [SEP]',\n",
              "  'token': 9293},\n",
              " {'score': 0.011855337768793106,\n",
              "  'sequence': '[CLS] covid is a threat. [SEP]',\n",
              "  'token': 8057}]"
            ]
          },
          "metadata": {
            "tags": []
          },
          "execution_count": 184
        }
      ]
    },
    {
      "cell_type": "markdown",
      "metadata": {
        "id": "6ccmUqAY_U6B"
      },
      "source": [
        "This indicates that the model we have trained is better suited as a COVID-19 language model or as the basis for fine-tuning.\n",
        "\n",
        "Similarly, we hope this tutorial will help you in customizing and improving a BERT-like language model for your specific downstream application. "
      ]
    },
    {
      "cell_type": "markdown",
      "metadata": {
        "id": "wGkVv2pduLv4"
      },
      "source": [
        "# Appendix - Additional Resources"
      ]
    },
    {
      "cell_type": "markdown",
      "metadata": {
        "id": "yT22fREDYHfS"
      },
      "source": [
        "\n",
        "While most of the literature is focused on fine-tuning against benchmarks, there isn't a great deal of research we've come across about continued pretraining or domain-specific fine-tuning despite its utility to industry-specific applications.\n",
        "\n",
        "One paper which does address this topic is \"[BERT on Stilts](https://arxiv.org/pdf/1811.01088.pdf)\" from a team at NYU--they measure the positive impact of an intermediate fine-tuning phase prior to the final benchmarked fine-tuning task.\n",
        "\n",
        "We'll continue to add more resources here as we come across them!\n",
        "\n",
        "\n",
        "\n"
      ]
    }
  ]
}